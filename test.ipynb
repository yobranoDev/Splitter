{
 "cells": [
  {
   "cell_type": "code",
   "execution_count": 106,
   "metadata": {},
   "outputs": [],
   "source": [
    "from PyPDF2 import PdfFileWriter as Writer, PdfFileReader as Reader\r\n",
    "import pandas as pd\r\n",
    "import numpy as np\r\n",
    "import re, pickle"
   ]
  },
  {
   "cell_type": "markdown",
   "metadata": {},
   "source": [
    "# READ IN THE DATA"
   ]
  },
  {
   "cell_type": "code",
   "execution_count": 176,
   "metadata": {},
   "outputs": [],
   "source": [
    "\r\n",
    "ct_num = 8\r\n",
    "end_pg = 737\r\n",
    "file_name = f\"C:/Users/me/Desktop/stuff/books/school/others/CT/CT  ({ct_num})/CT{ct_num}-PC-13.pdf\"\r\n",
    "pdf = Reader(open(file_name, 'rb'))\r\n",
    "\r\n",
    "# zero based indexing\r\n",
    "pg_no = 37\r\n",
    "pg = pdf.getPage(pg_no - 1)\r\n",
    "\r\n"
   ]
  },
  {
   "cell_type": "code",
   "execution_count": 177,
   "metadata": {},
   "outputs": [],
   "source": [
    "chaps = [\r\n",
    "    \"Chapter 0 Introduction to financial economics\",\r\n",
    "    \"Chapter 1 The efficient markets hypothesis\",\r\n",
    "    \"Chapter 2 Utility theory and stochastic dominance\",\r\n",
    "    \"Chapter 3 Measures of investment risk\",\r\n",
    "    \"Chapter 4 Portfolio theory\",\r\n",
    "    \"Chapter 5 Models of asset returns\",\r\n",
    "    \"Chapter 6 Asset pricing models\",\r\n",
    "    \"Chapter 7 Brownian motion and martingales\",\r\n",
    "    \"Chapter 8 Stochastic calculus and Ito processes\",\r\n",
    "    \"Chapter 9 Stochastic models of security prices\",\r\n",
    "    \"Chapter 10 Introduction to the valuation of derivative securities\",\r\n",
    "    \"Chapter 11 The Greeks\",\r\n",
    "    \"Chapter 12 The binomial model\",\r\n",
    "    \"Chapter 13 The Black-Scholes option pricing formula\",\r\n",
    "    \"Chapter 14 The 5-step method in discrete time\",\r\n",
    "    \"Chapter 15 The 5-step method in continuous time\",\r\n",
    "    \"Chapter 16 The term structure of interest rates\",\r\n",
    "    \"Chapter 17 Credit risk\",\r\n",
    "\r\n",
    "\r\n",
    "]\r\n"
   ]
  },
  {
   "cell_type": "code",
   "execution_count": 178,
   "metadata": {},
   "outputs": [
    {
     "data": {
      "text/plain": [
       "[['chapter 0', 'introduction to financial economics'],\n",
       " ['chapter 1', 'the efficient markets hypothesis'],\n",
       " ['chapter 2', 'utility theory and stochastic dominance'],\n",
       " ['chapter 3', 'measures of investment risk'],\n",
       " ['chapter 4', 'portfolio theory'],\n",
       " ['chapter 5', 'models of asset returns'],\n",
       " ['chapter 6', 'asset pricing models'],\n",
       " ['chapter 7', 'brownian motion and martingales'],\n",
       " ['chapter 8', 'stochastic calculus and ito processes'],\n",
       " ['chapter 9', 'stochastic models of security prices'],\n",
       " ['chapter 10', 'introduction to the valuation of derivative securities'],\n",
       " ['chapter 11', 'the greeks'],\n",
       " ['chapter 12', 'the binomial model'],\n",
       " ['chapter 13', 'the black-scholes option pricing formula'],\n",
       " ['chapter 14', 'the 5-step method in discrete time'],\n",
       " ['chapter 15', 'the 5-step method in continuous time'],\n",
       " ['chapter 16', 'the term structure of interest rates'],\n",
       " ['chapter 17', 'credit risk']]"
      ]
     },
     "execution_count": 178,
     "metadata": {},
     "output_type": "execute_result"
    }
   ],
   "source": [
    "look = re.compile('^chapter \\d+ ')\r\n",
    "# look = re.compile('^module \\d+ ')\r\n",
    "\r\n",
    "chap_split = []\r\n",
    "for chap in chaps:\r\n",
    "    m = look.match(chap.lower())\r\n",
    "    \r\n",
    "    chap_split.append([m.group().strip(), chap[m.end():].lower()])\r\n",
    "chap_split\r\n"
   ]
  },
  {
   "cell_type": "markdown",
   "metadata": {},
   "source": [
    "# GET CHAPTER STARTING POINTS"
   ]
  },
  {
   "cell_type": "code",
   "execution_count": 179,
   "metadata": {},
   "outputs": [
    {
     "data": {
      "text/plain": [
       "'Page 2 CT8-17: Credit risk \\n© IFE: 2013 Examinations The Actuarial Education Company \\n0 Introduction This chapter is based, with permission, on Chapter 11 in ﬁ\\nInterest Rate Models: \\nAn Introduction\\nﬂ by Andrew Cairns (Princeton University Press, 2004). \\n This chapter addresses credit risk Œ the risk \\nthat a person or an or\\nganisation will fail to \\nmake a payment they have promised.  This is quite a new area (\\neg the \\nJarrow-Lando-Turnbull (JLT) model was onl\\ny published in 1997) that has grown in \\nimportance with the recent introduction of credit derivatives (which we cover in \\n\\nSubjects ST5, ST6 and SA5, not in this course). \\n\\n \\nWe start with some definitions to set the s\\ncene, then go on to look at the Merton model, \\nwhich is a simple model that relates the pri\\nce of a bond subject to default to the price of \\nan option.  We then look at two models th\\nat are applications \\nof the theory of \\ncontinuous-time jump processes, whic\\nh you may (or may not!) remember from \\nSubject CT4.  The first model is a two-st\\nate model.  The second is the JLT model, \\nwhich is a more general multi-state model. \\n'"
      ]
     },
     "execution_count": 179,
     "metadata": {},
     "output_type": "execute_result"
    }
   ],
   "source": [
    "pdf.getPage(705).extractText()"
   ]
  },
  {
   "cell_type": "code",
   "execution_count": 180,
   "metadata": {},
   "outputs": [
    {
     "name": "stdout",
     "output_type": "stream",
     "text": [
      "chapter 0  | from:     1 | to:    39 \n",
      "chapter 1  | from:    39 | to:    49 \n",
      "chapter 2  | from:    49 | to:    73 \n",
      "chapter 3  | from:    73 | to:   139 \n",
      "chapter 4  | from:   139 | to:   167 \n",
      "chapter 5  | from:   167 | to:   211 \n",
      "chapter 6  | from:   211 | to:   237 \n",
      "chapter 7  | from:   237 | to:   269 \n",
      "chapter 8  | from:   269 | to:   301 \n",
      "chapter 9  | from:   301 | to:   343 \n",
      "chapter 10 | from:   343 | to:   411 \n",
      "chapter 11 | from:   411 | to:   453 \n",
      "chapter 12 | from:   453 | to:   471 \n",
      "chapter 13 | from:   471 | to:   537 \n",
      "chapter 14 | from:   537 | to:   581 \n",
      "chapter 15 | from:   581 | to:   621 \n",
      "chapter 16 | from:   621 | to:   663 \n",
      "chapter 17 | from:   663 | to:   705 \n"
     ]
    }
   ],
   "source": [
    "prev_page = 0\r\n",
    "curr_page = 0\r\n",
    "surgetions = []\r\n",
    "\r\n",
    "for page_num in range(prev_page, pdf.getNumPages()):\r\n",
    "    page = pdf.getPage(page_num).extractText().lower()\r\n",
    "    page = page.replace('\\n', '')\r\n",
    "\r\n",
    "    for idx, (chap_num, chap_title) in enumerate(chap_split):\r\n",
    "\r\n",
    "        if chap_num in page and chap_title in page and 'page 1 ' in page :\r\n",
    "            print(f'{chap_num:10} | from: {prev_page + 1:5} | to: {page_num + 1:5} ')\r\n",
    "            prev_page = page_num\r\n",
    "            surgetions.append(page_num) if( page_num not in surgetions)else(None)\r\n"
   ]
  },
  {
   "cell_type": "code",
   "execution_count": 181,
   "metadata": {},
   "outputs": [
    {
     "name": "stdout",
     "output_type": "stream",
     "text": [
      "[38, 48, 72, 138, 166, 210, 236, 268, 300, 342, 410, 452, 470, 536, 580, 620, 662, 704]\n",
      "[48, 72, 138, 166, 210, 236, 268, 300, 342, 410, 452, 470, 536, 580, 620, 662, 704, 736]\n",
      "Equal\n"
     ]
    }
   ],
   "source": [
    "surg = [*surgetions]\r\n",
    "surg_off = [*surgetions]\r\n",
    "\r\n",
    "# offset by appending last chp page\r\n",
    "end = end_pg \r\n",
    "surg_off.pop(0)\r\n",
    "surg_off.append(end)\r\n",
    "\r\n",
    "print(surg, surg_off, sep=\"\\n\")\r\n",
    "\r\n",
    "# get range of chapter \r\n",
    "surg = np.array(surg) \r\n",
    "surg_off = np.array(surg_off) - 1 \r\n",
    "\r\n",
    "surg = np.array([ surg + 1, surg_off + 1])\r\n",
    "surg_arr = np.full((surg.shape[1], surg.shape[0]), np.NaN)\r\n",
    "for idx, _ in enumerate(surg[0]):\r\n",
    "    surg_arr[idx, 0] = surg[0, idx]\r\n",
    "    surg_arr[idx, 1] = surg[1, idx]\r\n",
    "\r\n",
    "surg_arr = surg_arr.astype(np.int64)\r\n",
    "print('Equal')if(surg_arr.shape[0] == len(chaps) )else(print(f\"Not Equal. Surgested:{surg_arr.shape} Chapters: {len(chaps)}\"))"
   ]
  },
  {
   "cell_type": "code",
   "execution_count": 162,
   "metadata": {},
   "outputs": [
    {
     "name": "stdout",
     "output_type": "stream",
     "text": [
      "Equal\n"
     ]
    }
   ],
   "source": [
    "\r\n",
    "# temp = surg_arr.tolist()\r\n",
    "# temp.pop(temp.index( [247, 265]))\r\n",
    "\r\n",
    "# surg_arr = np.array(temp)\r\n",
    "# print('Equal')if(surg_arr.shape[0] == len(chaps) )else(print(f\"Not Equal. Surgested:{surg_arr.shape} Chapters: {len(chaps)}\"))\r\n"
   ]
  },
  {
   "cell_type": "code",
   "execution_count": 182,
   "metadata": {},
   "outputs": [
    {
     "data": {
      "text/html": [
       "<div>\n",
       "<style scoped>\n",
       "    .dataframe tbody tr th:only-of-type {\n",
       "        vertical-align: middle;\n",
       "    }\n",
       "\n",
       "    .dataframe tbody tr th {\n",
       "        vertical-align: top;\n",
       "    }\n",
       "\n",
       "    .dataframe thead th {\n",
       "        text-align: right;\n",
       "    }\n",
       "</style>\n",
       "<table border=\"1\" class=\"dataframe\">\n",
       "  <thead>\n",
       "    <tr style=\"text-align: right;\">\n",
       "      <th></th>\n",
       "      <th>start</th>\n",
       "      <th>end</th>\n",
       "      <th>name</th>\n",
       "    </tr>\n",
       "  </thead>\n",
       "  <tbody>\n",
       "    <tr>\n",
       "      <th>0</th>\n",
       "      <td>39</td>\n",
       "      <td>49</td>\n",
       "      <td>Chapter 0 Introduction to financial economics</td>\n",
       "    </tr>\n",
       "    <tr>\n",
       "      <th>1</th>\n",
       "      <td>49</td>\n",
       "      <td>73</td>\n",
       "      <td>Chapter 1 The efficient markets hypothesis</td>\n",
       "    </tr>\n",
       "    <tr>\n",
       "      <th>2</th>\n",
       "      <td>73</td>\n",
       "      <td>139</td>\n",
       "      <td>Chapter 2 Utility theory and stochastic dominance</td>\n",
       "    </tr>\n",
       "    <tr>\n",
       "      <th>3</th>\n",
       "      <td>139</td>\n",
       "      <td>167</td>\n",
       "      <td>Chapter 3 Measures of investment risk</td>\n",
       "    </tr>\n",
       "    <tr>\n",
       "      <th>4</th>\n",
       "      <td>167</td>\n",
       "      <td>211</td>\n",
       "      <td>Chapter 4 Portfolio theory</td>\n",
       "    </tr>\n",
       "  </tbody>\n",
       "</table>\n",
       "</div>"
      ],
      "text/plain": [
       "   start  end                                               name\n",
       "0     39   49      Chapter 0 Introduction to financial economics\n",
       "1     49   73         Chapter 1 The efficient markets hypothesis\n",
       "2     73  139  Chapter 2 Utility theory and stochastic dominance\n",
       "3    139  167              Chapter 3 Measures of investment risk\n",
       "4    167  211                         Chapter 4 Portfolio theory"
      ]
     },
     "execution_count": 182,
     "metadata": {},
     "output_type": "execute_result"
    }
   ],
   "source": [
    "\r\n",
    "df = pd.DataFrame(data= surg_arr, columns= ['start', 'end'])\r\n",
    "df['name'] = chaps\r\n",
    "df.to_csv(f'index_{ct_num}.csv', index= False)\r\n",
    "df.head()"
   ]
  },
  {
   "cell_type": "markdown",
   "metadata": {},
   "source": [
    "# SPLIT THE PDF"
   ]
  },
  {
   "cell_type": "code",
   "execution_count": 183,
   "metadata": {},
   "outputs": [
    {
     "name": "stdout",
     "output_type": "stream",
     "text": [
      "Chapter 0 Introduction to financial economics |    39 |    49\n",
      "Chapter 1 The efficient markets hypothesis |    49 |    73\n",
      "Chapter 2 Utility theory and stochastic dominance |    73 |   139\n",
      "Chapter 3 Measures of investment risk |   139 |   167\n",
      "Chapter 4 Portfolio theory |   167 |   211\n",
      "Chapter 5 Models of asset returns |   211 |   237\n",
      "Chapter 6 Asset pricing models |   237 |   269\n",
      "Chapter 7 Brownian motion and martingales |   269 |   301\n",
      "Chapter 8 Stochastic calculus and Ito processes |   301 |   343\n",
      "Chapter 9 Stochastic models of security prices |   343 |   411\n",
      "Chapter 10 Introduction to the valuation of derivative securities |   411 |   453\n",
      "Chapter 11 The Greeks |   453 |   471\n",
      "Chapter 12 The binomial model |   471 |   537\n",
      "Chapter 13 The Black-Scholes option pricing formula |   537 |   581\n",
      "Chapter 14 The 5-step method in discrete time |   581 |   621\n",
      "Chapter 15 The 5-step method in continuous time |   621 |   663\n",
      "Chapter 16 The term structure of interest rates |   663 |   705\n",
      "Chapter 17 Credit risk |   705 |   737\n"
     ]
    }
   ],
   "source": [
    "from split_from_file import splitter\r\n",
    "splitter(pdf= pdf, df= df)"
   ]
  },
  {
   "cell_type": "code",
   "execution_count": null,
   "metadata": {},
   "outputs": [],
   "source": [
    "map()"
   ]
  }
 ],
 "metadata": {
  "interpreter": {
   "hash": "02a67ff5ecc90a095175fdab06f5452444ff028ade5ce6acbf4a9116e6ff7839"
  },
  "kernelspec": {
   "display_name": "Python 3.8.3 64-bit ('base': conda)",
   "name": "python3"
  },
  "language_info": {
   "name": "python",
   "version": ""
  },
  "orig_nbformat": 4
 },
 "nbformat": 4,
 "nbformat_minor": 2
}